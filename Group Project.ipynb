{
 "cells": [
  {
   "cell_type": "code",
   "execution_count": 1,
   "id": "5aa18778-5212-4633-b328-9dd765355403",
   "metadata": {},
   "outputs": [
    {
     "name": "stderr",
     "output_type": "stream",
     "text": [
      "── \u001b[1mAttaching core tidyverse packages\u001b[22m ──────────────────────── tidyverse 2.0.0 ──\n",
      "\u001b[32m✔\u001b[39m \u001b[34mdplyr    \u001b[39m 1.1.4     \u001b[32m✔\u001b[39m \u001b[34mreadr    \u001b[39m 2.1.5\n",
      "\u001b[32m✔\u001b[39m \u001b[34mforcats  \u001b[39m 1.0.0     \u001b[32m✔\u001b[39m \u001b[34mstringr  \u001b[39m 1.5.1\n",
      "\u001b[32m✔\u001b[39m \u001b[34mggplot2  \u001b[39m 3.5.1     \u001b[32m✔\u001b[39m \u001b[34mtibble   \u001b[39m 3.2.1\n",
      "\u001b[32m✔\u001b[39m \u001b[34mlubridate\u001b[39m 1.9.3     \u001b[32m✔\u001b[39m \u001b[34mtidyr    \u001b[39m 1.3.1\n",
      "\u001b[32m✔\u001b[39m \u001b[34mpurrr    \u001b[39m 1.0.2     \n",
      "── \u001b[1mConflicts\u001b[22m ────────────────────────────────────────── tidyverse_conflicts() ──\n",
      "\u001b[31m✖\u001b[39m \u001b[34mdplyr\u001b[39m::\u001b[32mfilter()\u001b[39m masks \u001b[34mstats\u001b[39m::filter()\n",
      "\u001b[31m✖\u001b[39m \u001b[34mdplyr\u001b[39m::\u001b[32mlag()\u001b[39m    masks \u001b[34mstats\u001b[39m::lag()\n",
      "\u001b[36mℹ\u001b[39m Use the conflicted package (\u001b[3m\u001b[34m<http://conflicted.r-lib.org/>\u001b[39m\u001b[23m) to force all conflicts to become errors\n",
      "── \u001b[1mAttaching packages\u001b[22m ────────────────────────────────────── tidymodels 1.1.1 ──\n",
      "\n",
      "\u001b[32m✔\u001b[39m \u001b[34mbroom       \u001b[39m 1.0.6     \u001b[32m✔\u001b[39m \u001b[34mrsample     \u001b[39m 1.2.1\n",
      "\u001b[32m✔\u001b[39m \u001b[34mdials       \u001b[39m 1.3.0     \u001b[32m✔\u001b[39m \u001b[34mtune        \u001b[39m 1.1.2\n",
      "\u001b[32m✔\u001b[39m \u001b[34minfer       \u001b[39m 1.0.7     \u001b[32m✔\u001b[39m \u001b[34mworkflows   \u001b[39m 1.1.4\n",
      "\u001b[32m✔\u001b[39m \u001b[34mmodeldata   \u001b[39m 1.4.0     \u001b[32m✔\u001b[39m \u001b[34mworkflowsets\u001b[39m 1.0.1\n",
      "\u001b[32m✔\u001b[39m \u001b[34mparsnip     \u001b[39m 1.2.1     \u001b[32m✔\u001b[39m \u001b[34myardstick   \u001b[39m 1.3.1\n",
      "\u001b[32m✔\u001b[39m \u001b[34mrecipes     \u001b[39m 1.1.0     \n",
      "\n",
      "── \u001b[1mConflicts\u001b[22m ───────────────────────────────────────── tidymodels_conflicts() ──\n",
      "\u001b[31m✖\u001b[39m \u001b[34mscales\u001b[39m::\u001b[32mdiscard()\u001b[39m masks \u001b[34mpurrr\u001b[39m::discard()\n",
      "\u001b[31m✖\u001b[39m \u001b[34mdplyr\u001b[39m::\u001b[32mfilter()\u001b[39m   masks \u001b[34mstats\u001b[39m::filter()\n",
      "\u001b[31m✖\u001b[39m \u001b[34mrecipes\u001b[39m::\u001b[32mfixed()\u001b[39m  masks \u001b[34mstringr\u001b[39m::fixed()\n",
      "\u001b[31m✖\u001b[39m \u001b[34mdplyr\u001b[39m::\u001b[32mlag()\u001b[39m      masks \u001b[34mstats\u001b[39m::lag()\n",
      "\u001b[31m✖\u001b[39m \u001b[34myardstick\u001b[39m::\u001b[32mspec()\u001b[39m masks \u001b[34mreadr\u001b[39m::spec()\n",
      "\u001b[31m✖\u001b[39m \u001b[34mrecipes\u001b[39m::\u001b[32mstep()\u001b[39m   masks \u001b[34mstats\u001b[39m::step()\n",
      "\u001b[34m•\u001b[39m Search for functions across packages at \u001b[32mhttps://www.tidymodels.org/find/\u001b[39m\n",
      "\n",
      "Registered S3 method overwritten by 'GGally':\n",
      "  method from   \n",
      "  +.gg   ggplot2\n",
      "\n",
      "Warning message in file(filename, \"r\", encoding = encoding):\n",
      "“cannot open file 'cleanup.R': No such file or directory”\n"
     ]
    },
    {
     "ename": "ERROR",
     "evalue": "Error in file(filename, \"r\", encoding = encoding): cannot open the connection\n",
     "output_type": "error",
     "traceback": [
      "Error in file(filename, \"r\", encoding = encoding): cannot open the connection\nTraceback:\n",
      "1. source(\"cleanup.R\")",
      "2. file(filename, \"r\", encoding = encoding)"
     ]
    }
   ],
   "source": [
    "library(tidyverse)\n",
    "library(repr)\n",
    "library(tidymodels)\n",
    "library(GGally)\n",
    "library(ISLR)\n",
    "library(themis)\n",
    "library(parsnip)\n",
    "options(repr.matrix.max.rows = 6)\n",
    "source(\"cleanup.R\")"
   ]
  },
  {
   "cell_type": "code",
   "execution_count": 2,
   "id": "2aaf2918-4c64-44e3-bbef-eac901b990e6",
   "metadata": {},
   "outputs": [
    {
     "name": "stderr",
     "output_type": "stream",
     "text": [
      "\u001b[1mRows: \u001b[22m\u001b[34m196\u001b[39m \u001b[1mColumns: \u001b[22m\u001b[34m9\u001b[39m\n",
      "\u001b[36m──\u001b[39m \u001b[1mColumn specification\u001b[22m \u001b[36m────────────────────────────────────────────────────────\u001b[39m\n",
      "\u001b[1mDelimiter:\u001b[22m \",\"\n",
      "\u001b[31mchr\u001b[39m (4): experience, hashedEmail, name, gender\n",
      "\u001b[32mdbl\u001b[39m (2): played_hours, age\n",
      "\u001b[33mlgl\u001b[39m (3): subscribe, individualId, organizationName\n",
      "\n",
      "\u001b[36mℹ\u001b[39m Use `spec()` to retrieve the full column specification for this data.\n",
      "\u001b[36mℹ\u001b[39m Specify the column types or set `show_col_types = FALSE` to quiet this message.\n"
     ]
    },
    {
     "data": {
      "text/html": [
       "<table class=\"dataframe\">\n",
       "<caption>A tibble: 6 × 9</caption>\n",
       "<thead>\n",
       "\t<tr><th scope=col>experience</th><th scope=col>subscribe</th><th scope=col>hashedEmail</th><th scope=col>played_hours</th><th scope=col>name</th><th scope=col>gender</th><th scope=col>age</th><th scope=col>individualId</th><th scope=col>organizationName</th></tr>\n",
       "\t<tr><th scope=col>&lt;chr&gt;</th><th scope=col>&lt;lgl&gt;</th><th scope=col>&lt;chr&gt;</th><th scope=col>&lt;dbl&gt;</th><th scope=col>&lt;chr&gt;</th><th scope=col>&lt;chr&gt;</th><th scope=col>&lt;dbl&gt;</th><th scope=col>&lt;lgl&gt;</th><th scope=col>&lt;lgl&gt;</th></tr>\n",
       "</thead>\n",
       "<tbody>\n",
       "\t<tr><td>Pro    </td><td> TRUE</td><td>f6daba428a5e19a3d47574858c13550499be23603422e6a0ee9728f8b53e192d</td><td>30.3</td><td>Morgan   </td><td>Male  </td><td> 9</td><td>NA</td><td>NA</td></tr>\n",
       "\t<tr><td>Veteran</td><td> TRUE</td><td>f3c813577c458ba0dfef80996f8f32c93b6e8af1fa939732842f2312358a88e9</td><td> 3.8</td><td>Christian</td><td>Male  </td><td>17</td><td>NA</td><td>NA</td></tr>\n",
       "\t<tr><td>Veteran</td><td>FALSE</td><td>b674dd7ee0d24096d1c019615ce4d12b20fcbff12d79d3c5a9d2118eb7ccbb28</td><td> 0.0</td><td>Blake    </td><td>Male  </td><td>17</td><td>NA</td><td>NA</td></tr>\n",
       "\t<tr><td>Amateur</td><td> TRUE</td><td>23fe711e0e3b77f1da7aa221ab1192afe21648d47d2b4fa7a5a659ff443a0eb5</td><td> 0.7</td><td>Flora    </td><td>Female</td><td>21</td><td>NA</td><td>NA</td></tr>\n",
       "\t<tr><td>Regular</td><td> TRUE</td><td>7dc01f10bf20671ecfccdac23812b1b415acd42c2147cb0af4d48fcce2420f3e</td><td> 0.1</td><td>Kylie    </td><td>Male  </td><td>21</td><td>NA</td><td>NA</td></tr>\n",
       "\t<tr><td>Amateur</td><td> TRUE</td><td>f58aad5996a435f16b0284a3b267f973f9af99e7a89bee0430055a44fa92f977</td><td> 0.0</td><td>Adrian   </td><td>Female</td><td>17</td><td>NA</td><td>NA</td></tr>\n",
       "</tbody>\n",
       "</table>\n"
      ],
      "text/latex": [
       "A tibble: 6 × 9\n",
       "\\begin{tabular}{lllllllll}\n",
       " experience & subscribe & hashedEmail & played\\_hours & name & gender & age & individualId & organizationName\\\\\n",
       " <chr> & <lgl> & <chr> & <dbl> & <chr> & <chr> & <dbl> & <lgl> & <lgl>\\\\\n",
       "\\hline\n",
       "\t Pro     &  TRUE & f6daba428a5e19a3d47574858c13550499be23603422e6a0ee9728f8b53e192d & 30.3 & Morgan    & Male   &  9 & NA & NA\\\\\n",
       "\t Veteran &  TRUE & f3c813577c458ba0dfef80996f8f32c93b6e8af1fa939732842f2312358a88e9 &  3.8 & Christian & Male   & 17 & NA & NA\\\\\n",
       "\t Veteran & FALSE & b674dd7ee0d24096d1c019615ce4d12b20fcbff12d79d3c5a9d2118eb7ccbb28 &  0.0 & Blake     & Male   & 17 & NA & NA\\\\\n",
       "\t Amateur &  TRUE & 23fe711e0e3b77f1da7aa221ab1192afe21648d47d2b4fa7a5a659ff443a0eb5 &  0.7 & Flora     & Female & 21 & NA & NA\\\\\n",
       "\t Regular &  TRUE & 7dc01f10bf20671ecfccdac23812b1b415acd42c2147cb0af4d48fcce2420f3e &  0.1 & Kylie     & Male   & 21 & NA & NA\\\\\n",
       "\t Amateur &  TRUE & f58aad5996a435f16b0284a3b267f973f9af99e7a89bee0430055a44fa92f977 &  0.0 & Adrian    & Female & 17 & NA & NA\\\\\n",
       "\\end{tabular}\n"
      ],
      "text/markdown": [
       "\n",
       "A tibble: 6 × 9\n",
       "\n",
       "| experience &lt;chr&gt; | subscribe &lt;lgl&gt; | hashedEmail &lt;chr&gt; | played_hours &lt;dbl&gt; | name &lt;chr&gt; | gender &lt;chr&gt; | age &lt;dbl&gt; | individualId &lt;lgl&gt; | organizationName &lt;lgl&gt; |\n",
       "|---|---|---|---|---|---|---|---|---|\n",
       "| Pro     |  TRUE | f6daba428a5e19a3d47574858c13550499be23603422e6a0ee9728f8b53e192d | 30.3 | Morgan    | Male   |  9 | NA | NA |\n",
       "| Veteran |  TRUE | f3c813577c458ba0dfef80996f8f32c93b6e8af1fa939732842f2312358a88e9 |  3.8 | Christian | Male   | 17 | NA | NA |\n",
       "| Veteran | FALSE | b674dd7ee0d24096d1c019615ce4d12b20fcbff12d79d3c5a9d2118eb7ccbb28 |  0.0 | Blake     | Male   | 17 | NA | NA |\n",
       "| Amateur |  TRUE | 23fe711e0e3b77f1da7aa221ab1192afe21648d47d2b4fa7a5a659ff443a0eb5 |  0.7 | Flora     | Female | 21 | NA | NA |\n",
       "| Regular |  TRUE | 7dc01f10bf20671ecfccdac23812b1b415acd42c2147cb0af4d48fcce2420f3e |  0.1 | Kylie     | Male   | 21 | NA | NA |\n",
       "| Amateur |  TRUE | f58aad5996a435f16b0284a3b267f973f9af99e7a89bee0430055a44fa92f977 |  0.0 | Adrian    | Female | 17 | NA | NA |\n",
       "\n"
      ],
      "text/plain": [
       "  experience subscribe\n",
       "1 Pro         TRUE    \n",
       "2 Veteran     TRUE    \n",
       "3 Veteran    FALSE    \n",
       "4 Amateur     TRUE    \n",
       "5 Regular     TRUE    \n",
       "6 Amateur     TRUE    \n",
       "  hashedEmail                                                      played_hours\n",
       "1 f6daba428a5e19a3d47574858c13550499be23603422e6a0ee9728f8b53e192d 30.3        \n",
       "2 f3c813577c458ba0dfef80996f8f32c93b6e8af1fa939732842f2312358a88e9  3.8        \n",
       "3 b674dd7ee0d24096d1c019615ce4d12b20fcbff12d79d3c5a9d2118eb7ccbb28  0.0        \n",
       "4 23fe711e0e3b77f1da7aa221ab1192afe21648d47d2b4fa7a5a659ff443a0eb5  0.7        \n",
       "5 7dc01f10bf20671ecfccdac23812b1b415acd42c2147cb0af4d48fcce2420f3e  0.1        \n",
       "6 f58aad5996a435f16b0284a3b267f973f9af99e7a89bee0430055a44fa92f977  0.0        \n",
       "  name      gender age individualId organizationName\n",
       "1 Morgan    Male    9  NA           NA              \n",
       "2 Christian Male   17  NA           NA              \n",
       "3 Blake     Male   17  NA           NA              \n",
       "4 Flora     Female 21  NA           NA              \n",
       "5 Kylie     Male   21  NA           NA              \n",
       "6 Adrian    Female 17  NA           NA              "
      ]
     },
     "metadata": {},
     "output_type": "display_data"
    },
    {
     "name": "stderr",
     "output_type": "stream",
     "text": [
      "\u001b[1mRows: \u001b[22m\u001b[34m1535\u001b[39m \u001b[1mColumns: \u001b[22m\u001b[34m5\u001b[39m\n",
      "\u001b[36m──\u001b[39m \u001b[1mColumn specification\u001b[22m \u001b[36m────────────────────────────────────────────────────────\u001b[39m\n",
      "\u001b[1mDelimiter:\u001b[22m \",\"\n",
      "\u001b[31mchr\u001b[39m (3): hashedEmail, start_time, end_time\n",
      "\u001b[32mdbl\u001b[39m (2): original_start_time, original_end_time\n",
      "\n",
      "\u001b[36mℹ\u001b[39m Use `spec()` to retrieve the full column specification for this data.\n",
      "\u001b[36mℹ\u001b[39m Specify the column types or set `show_col_types = FALSE` to quiet this message.\n"
     ]
    },
    {
     "data": {
      "text/html": [
       "<table class=\"dataframe\">\n",
       "<caption>A tibble: 6 × 5</caption>\n",
       "<thead>\n",
       "\t<tr><th scope=col>hashedEmail</th><th scope=col>start_time</th><th scope=col>end_time</th><th scope=col>original_start_time</th><th scope=col>original_end_time</th></tr>\n",
       "\t<tr><th scope=col>&lt;chr&gt;</th><th scope=col>&lt;chr&gt;</th><th scope=col>&lt;chr&gt;</th><th scope=col>&lt;dbl&gt;</th><th scope=col>&lt;dbl&gt;</th></tr>\n",
       "</thead>\n",
       "<tbody>\n",
       "\t<tr><td>bfce39c89d6549f2bb94d8064d3ce69dc3d7e72b38f431d8aa0c4bf95ccee6bf</td><td>30/06/2024 18:12</td><td>30/06/2024 18:24</td><td>1.71977e+12</td><td>1.71977e+12</td></tr>\n",
       "\t<tr><td>36d9cbb4c6bc0c1a6911436d2da0d09ec625e43e6552f575d4acc9cf487c4686</td><td>17/06/2024 23:33</td><td>17/06/2024 23:46</td><td>1.71867e+12</td><td>1.71867e+12</td></tr>\n",
       "\t<tr><td>f8f5477f5a2e53616ae37421b1c660b971192bd8ff77e3398304c7ae42581fdc</td><td>25/07/2024 17:34</td><td>25/07/2024 17:57</td><td>1.72193e+12</td><td>1.72193e+12</td></tr>\n",
       "\t<tr><td>bfce39c89d6549f2bb94d8064d3ce69dc3d7e72b38f431d8aa0c4bf95ccee6bf</td><td>25/07/2024 03:22</td><td>25/07/2024 03:58</td><td>1.72188e+12</td><td>1.72188e+12</td></tr>\n",
       "\t<tr><td>36d9cbb4c6bc0c1a6911436d2da0d09ec625e43e6552f575d4acc9cf487c4686</td><td>25/05/2024 16:01</td><td>25/05/2024 16:12</td><td>1.71665e+12</td><td>1.71665e+12</td></tr>\n",
       "\t<tr><td>bfce39c89d6549f2bb94d8064d3ce69dc3d7e72b38f431d8aa0c4bf95ccee6bf</td><td>23/06/2024 15:08</td><td>23/06/2024 17:10</td><td>1.71916e+12</td><td>1.71916e+12</td></tr>\n",
       "</tbody>\n",
       "</table>\n"
      ],
      "text/latex": [
       "A tibble: 6 × 5\n",
       "\\begin{tabular}{lllll}\n",
       " hashedEmail & start\\_time & end\\_time & original\\_start\\_time & original\\_end\\_time\\\\\n",
       " <chr> & <chr> & <chr> & <dbl> & <dbl>\\\\\n",
       "\\hline\n",
       "\t bfce39c89d6549f2bb94d8064d3ce69dc3d7e72b38f431d8aa0c4bf95ccee6bf & 30/06/2024 18:12 & 30/06/2024 18:24 & 1.71977e+12 & 1.71977e+12\\\\\n",
       "\t 36d9cbb4c6bc0c1a6911436d2da0d09ec625e43e6552f575d4acc9cf487c4686 & 17/06/2024 23:33 & 17/06/2024 23:46 & 1.71867e+12 & 1.71867e+12\\\\\n",
       "\t f8f5477f5a2e53616ae37421b1c660b971192bd8ff77e3398304c7ae42581fdc & 25/07/2024 17:34 & 25/07/2024 17:57 & 1.72193e+12 & 1.72193e+12\\\\\n",
       "\t bfce39c89d6549f2bb94d8064d3ce69dc3d7e72b38f431d8aa0c4bf95ccee6bf & 25/07/2024 03:22 & 25/07/2024 03:58 & 1.72188e+12 & 1.72188e+12\\\\\n",
       "\t 36d9cbb4c6bc0c1a6911436d2da0d09ec625e43e6552f575d4acc9cf487c4686 & 25/05/2024 16:01 & 25/05/2024 16:12 & 1.71665e+12 & 1.71665e+12\\\\\n",
       "\t bfce39c89d6549f2bb94d8064d3ce69dc3d7e72b38f431d8aa0c4bf95ccee6bf & 23/06/2024 15:08 & 23/06/2024 17:10 & 1.71916e+12 & 1.71916e+12\\\\\n",
       "\\end{tabular}\n"
      ],
      "text/markdown": [
       "\n",
       "A tibble: 6 × 5\n",
       "\n",
       "| hashedEmail &lt;chr&gt; | start_time &lt;chr&gt; | end_time &lt;chr&gt; | original_start_time &lt;dbl&gt; | original_end_time &lt;dbl&gt; |\n",
       "|---|---|---|---|---|\n",
       "| bfce39c89d6549f2bb94d8064d3ce69dc3d7e72b38f431d8aa0c4bf95ccee6bf | 30/06/2024 18:12 | 30/06/2024 18:24 | 1.71977e+12 | 1.71977e+12 |\n",
       "| 36d9cbb4c6bc0c1a6911436d2da0d09ec625e43e6552f575d4acc9cf487c4686 | 17/06/2024 23:33 | 17/06/2024 23:46 | 1.71867e+12 | 1.71867e+12 |\n",
       "| f8f5477f5a2e53616ae37421b1c660b971192bd8ff77e3398304c7ae42581fdc | 25/07/2024 17:34 | 25/07/2024 17:57 | 1.72193e+12 | 1.72193e+12 |\n",
       "| bfce39c89d6549f2bb94d8064d3ce69dc3d7e72b38f431d8aa0c4bf95ccee6bf | 25/07/2024 03:22 | 25/07/2024 03:58 | 1.72188e+12 | 1.72188e+12 |\n",
       "| 36d9cbb4c6bc0c1a6911436d2da0d09ec625e43e6552f575d4acc9cf487c4686 | 25/05/2024 16:01 | 25/05/2024 16:12 | 1.71665e+12 | 1.71665e+12 |\n",
       "| bfce39c89d6549f2bb94d8064d3ce69dc3d7e72b38f431d8aa0c4bf95ccee6bf | 23/06/2024 15:08 | 23/06/2024 17:10 | 1.71916e+12 | 1.71916e+12 |\n",
       "\n"
      ],
      "text/plain": [
       "  hashedEmail                                                     \n",
       "1 bfce39c89d6549f2bb94d8064d3ce69dc3d7e72b38f431d8aa0c4bf95ccee6bf\n",
       "2 36d9cbb4c6bc0c1a6911436d2da0d09ec625e43e6552f575d4acc9cf487c4686\n",
       "3 f8f5477f5a2e53616ae37421b1c660b971192bd8ff77e3398304c7ae42581fdc\n",
       "4 bfce39c89d6549f2bb94d8064d3ce69dc3d7e72b38f431d8aa0c4bf95ccee6bf\n",
       "5 36d9cbb4c6bc0c1a6911436d2da0d09ec625e43e6552f575d4acc9cf487c4686\n",
       "6 bfce39c89d6549f2bb94d8064d3ce69dc3d7e72b38f431d8aa0c4bf95ccee6bf\n",
       "  start_time       end_time         original_start_time original_end_time\n",
       "1 30/06/2024 18:12 30/06/2024 18:24 1.71977e+12         1.71977e+12      \n",
       "2 17/06/2024 23:33 17/06/2024 23:46 1.71867e+12         1.71867e+12      \n",
       "3 25/07/2024 17:34 25/07/2024 17:57 1.72193e+12         1.72193e+12      \n",
       "4 25/07/2024 03:22 25/07/2024 03:58 1.72188e+12         1.72188e+12      \n",
       "5 25/05/2024 16:01 25/05/2024 16:12 1.71665e+12         1.71665e+12      \n",
       "6 23/06/2024 15:08 23/06/2024 17:10 1.71916e+12         1.71916e+12      "
      ]
     },
     "metadata": {},
     "output_type": "display_data"
    }
   ],
   "source": [
    "players <- read_csv(\"https://raw.githubusercontent.com/Snowy129/DSCI100-Project/refs/heads/main/players.csv\")\n",
    "head(players)\n",
    "\n",
    "sessions <- read_csv(\"https://raw.githubusercontent.com/Snowy129/DSCI100-Project/refs/heads/main/sessions.csv\")\n",
    "head(sessions)"
   ]
  },
  {
   "cell_type": "code",
   "execution_count": 3,
   "id": "84ff99be-bed5-4735-8ad1-5eb90ede426f",
   "metadata": {},
   "outputs": [
    {
     "data": {
      "text/html": [
       "<table class=\"dataframe\">\n",
       "<caption>A tibble: 6 × 5</caption>\n",
       "<thead>\n",
       "\t<tr><th scope=col>played_hours</th><th scope=col>gender</th><th scope=col>age</th><th scope=col>experience</th><th scope=col>subscribe</th></tr>\n",
       "\t<tr><th scope=col>&lt;dbl&gt;</th><th scope=col>&lt;fct&gt;</th><th scope=col>&lt;int&gt;</th><th scope=col>&lt;fct&gt;</th><th scope=col>&lt;lgl&gt;</th></tr>\n",
       "</thead>\n",
       "<tbody>\n",
       "\t<tr><td>3.8</td><td>Male  </td><td>17</td><td>Veteran</td><td> TRUE</td></tr>\n",
       "\t<tr><td>0.0</td><td>Male  </td><td>17</td><td>Veteran</td><td>FALSE</td></tr>\n",
       "\t<tr><td>0.7</td><td>Female</td><td>21</td><td>Amateur</td><td> TRUE</td></tr>\n",
       "\t<tr><td>0.1</td><td>Male  </td><td>21</td><td>Regular</td><td> TRUE</td></tr>\n",
       "\t<tr><td>0.0</td><td>Female</td><td>17</td><td>Amateur</td><td> TRUE</td></tr>\n",
       "\t<tr><td>0.0</td><td>Female</td><td>19</td><td>Regular</td><td> TRUE</td></tr>\n",
       "</tbody>\n",
       "</table>\n"
      ],
      "text/latex": [
       "A tibble: 6 × 5\n",
       "\\begin{tabular}{lllll}\n",
       " played\\_hours & gender & age & experience & subscribe\\\\\n",
       " <dbl> & <fct> & <int> & <fct> & <lgl>\\\\\n",
       "\\hline\n",
       "\t 3.8 & Male   & 17 & Veteran &  TRUE\\\\\n",
       "\t 0.0 & Male   & 17 & Veteran & FALSE\\\\\n",
       "\t 0.7 & Female & 21 & Amateur &  TRUE\\\\\n",
       "\t 0.1 & Male   & 21 & Regular &  TRUE\\\\\n",
       "\t 0.0 & Female & 17 & Amateur &  TRUE\\\\\n",
       "\t 0.0 & Female & 19 & Regular &  TRUE\\\\\n",
       "\\end{tabular}\n"
      ],
      "text/markdown": [
       "\n",
       "A tibble: 6 × 5\n",
       "\n",
       "| played_hours &lt;dbl&gt; | gender &lt;fct&gt; | age &lt;int&gt; | experience &lt;fct&gt; | subscribe &lt;lgl&gt; |\n",
       "|---|---|---|---|---|\n",
       "| 3.8 | Male   | 17 | Veteran |  TRUE |\n",
       "| 0.0 | Male   | 17 | Veteran | FALSE |\n",
       "| 0.7 | Female | 21 | Amateur |  TRUE |\n",
       "| 0.1 | Male   | 21 | Regular |  TRUE |\n",
       "| 0.0 | Female | 17 | Amateur |  TRUE |\n",
       "| 0.0 | Female | 19 | Regular |  TRUE |\n",
       "\n"
      ],
      "text/plain": [
       "  played_hours gender age experience subscribe\n",
       "1 3.8          Male   17  Veteran     TRUE    \n",
       "2 0.0          Male   17  Veteran    FALSE    \n",
       "3 0.7          Female 21  Amateur     TRUE    \n",
       "4 0.1          Male   21  Regular     TRUE    \n",
       "5 0.0          Female 17  Amateur     TRUE    \n",
       "6 0.0          Female 19  Regular     TRUE    "
      ]
     },
     "metadata": {},
     "output_type": "display_data"
    }
   ],
   "source": [
    "clean_players1 <- players |>\n",
    "    mutate(gender = as_factor(gender), age = as.integer(age), experience = as_factor(experience)) |>\n",
    "    select(played_hours, gender, age, experience, subscribe) |>\n",
    "    filter(age >= 17)\n",
    "head(clean_players1)\n",
    "\n",
    "\n"
   ]
  },
  {
   "cell_type": "markdown",
   "id": "fd14ec9e-a525-42af-9181-a82b8aa5a0cf",
   "metadata": {},
   "source": [
    "## KNN Regression Attempt"
   ]
  },
  {
   "cell_type": "code",
   "execution_count": 4,
   "id": "671ea102-6f6b-4957-9936-f7384ce2206f",
   "metadata": {},
   "outputs": [
    {
     "data": {
      "text/html": [
       "<table class=\"dataframe\">\n",
       "<caption>A tibble: 6 × 3</caption>\n",
       "<thead>\n",
       "\t<tr><th scope=col>played_hours</th><th scope=col>age</th><th scope=col>experience</th></tr>\n",
       "\t<tr><th scope=col>&lt;dbl&gt;</th><th scope=col>&lt;int&gt;</th><th scope=col>&lt;chr&gt;</th></tr>\n",
       "</thead>\n",
       "<tbody>\n",
       "\t<tr><td>223.1</td><td>17</td><td>Regular</td></tr>\n",
       "\t<tr><td>218.1</td><td>20</td><td>Regular</td></tr>\n",
       "\t<tr><td>178.2</td><td>19</td><td>Regular</td></tr>\n",
       "\t<tr><td>150.0</td><td>16</td><td>Amateur</td></tr>\n",
       "\t<tr><td> 56.1</td><td>23</td><td>Amateur</td></tr>\n",
       "\t<tr><td> 53.9</td><td>17</td><td>Amateur</td></tr>\n",
       "</tbody>\n",
       "</table>\n"
      ],
      "text/latex": [
       "A tibble: 6 × 3\n",
       "\\begin{tabular}{lll}\n",
       " played\\_hours & age & experience\\\\\n",
       " <dbl> & <int> & <chr>\\\\\n",
       "\\hline\n",
       "\t 223.1 & 17 & Regular\\\\\n",
       "\t 218.1 & 20 & Regular\\\\\n",
       "\t 178.2 & 19 & Regular\\\\\n",
       "\t 150.0 & 16 & Amateur\\\\\n",
       "\t  56.1 & 23 & Amateur\\\\\n",
       "\t  53.9 & 17 & Amateur\\\\\n",
       "\\end{tabular}\n"
      ],
      "text/markdown": [
       "\n",
       "A tibble: 6 × 3\n",
       "\n",
       "| played_hours &lt;dbl&gt; | age &lt;int&gt; | experience &lt;chr&gt; |\n",
       "|---|---|---|\n",
       "| 223.1 | 17 | Regular |\n",
       "| 218.1 | 20 | Regular |\n",
       "| 178.2 | 19 | Regular |\n",
       "| 150.0 | 16 | Amateur |\n",
       "|  56.1 | 23 | Amateur |\n",
       "|  53.9 | 17 | Amateur |\n",
       "\n"
      ],
      "text/plain": [
       "  played_hours age experience\n",
       "1 223.1        17  Regular   \n",
       "2 218.1        20  Regular   \n",
       "3 178.2        19  Regular   \n",
       "4 150.0        16  Amateur   \n",
       "5  56.1        23  Amateur   \n",
       "6  53.9        17  Amateur   "
      ]
     },
     "metadata": {},
     "output_type": "display_data"
    },
    {
     "data": {
      "text/html": [
       "<strong>97.5%:</strong> 54.175"
      ],
      "text/latex": [
       "\\textbf{97.5\\textbackslash{}\\%:} 54.175"
      ],
      "text/markdown": [
       "**97.5%:** 54.175"
      ],
      "text/plain": [
       " 97.5% \n",
       "54.175 "
      ]
     },
     "metadata": {},
     "output_type": "display_data"
    },
    {
     "data": {
      "text/html": [
       "<table class=\"dataframe\">\n",
       "<caption>A tibble: 96 × 3</caption>\n",
       "<thead>\n",
       "\t<tr><th scope=col>played_hours</th><th scope=col>age</th><th scope=col>experience</th></tr>\n",
       "\t<tr><th scope=col>&lt;dbl&gt;</th><th scope=col>&lt;int&gt;</th><th scope=col>&lt;chr&gt;</th></tr>\n",
       "</thead>\n",
       "<tbody>\n",
       "\t<tr><td>53.9</td><td>17</td><td>Amateur</td></tr>\n",
       "\t<tr><td>48.4</td><td>17</td><td>Amateur</td></tr>\n",
       "\t<tr><td>32.0</td><td>22</td><td>Amateur</td></tr>\n",
       "\t<tr><td>⋮</td><td>⋮</td><td>⋮</td></tr>\n",
       "\t<tr><td>0.1</td><td>17</td><td>Veteran</td></tr>\n",
       "\t<tr><td>0.1</td><td>18</td><td>Regular</td></tr>\n",
       "\t<tr><td>0.1</td><td>44</td><td>Veteran</td></tr>\n",
       "</tbody>\n",
       "</table>\n"
      ],
      "text/latex": [
       "A tibble: 96 × 3\n",
       "\\begin{tabular}{lll}\n",
       " played\\_hours & age & experience\\\\\n",
       " <dbl> & <int> & <chr>\\\\\n",
       "\\hline\n",
       "\t 53.9 & 17 & Amateur\\\\\n",
       "\t 48.4 & 17 & Amateur\\\\\n",
       "\t 32.0 & 22 & Amateur\\\\\n",
       "\t ⋮ & ⋮ & ⋮\\\\\n",
       "\t 0.1 & 17 & Veteran\\\\\n",
       "\t 0.1 & 18 & Regular\\\\\n",
       "\t 0.1 & 44 & Veteran\\\\\n",
       "\\end{tabular}\n"
      ],
      "text/markdown": [
       "\n",
       "A tibble: 96 × 3\n",
       "\n",
       "| played_hours &lt;dbl&gt; | age &lt;int&gt; | experience &lt;chr&gt; |\n",
       "|---|---|---|\n",
       "| 53.9 | 17 | Amateur |\n",
       "| 48.4 | 17 | Amateur |\n",
       "| 32.0 | 22 | Amateur |\n",
       "| ⋮ | ⋮ | ⋮ |\n",
       "| 0.1 | 17 | Veteran |\n",
       "| 0.1 | 18 | Regular |\n",
       "| 0.1 | 44 | Veteran |\n",
       "\n"
      ],
      "text/plain": [
       "   played_hours age experience\n",
       "1  53.9         17  Amateur   \n",
       "2  48.4         17  Amateur   \n",
       "3  32.0         22  Amateur   \n",
       "⋮  ⋮            ⋮   ⋮         \n",
       "94 0.1          17  Veteran   \n",
       "95 0.1          18  Regular   \n",
       "96 0.1          44  Veteran   "
      ]
     },
     "metadata": {},
     "output_type": "display_data"
    }
   ],
   "source": [
    "\n",
    "#KNN regression Wrangling\n",
    "clean_players_with_outliers <- players |>\n",
    "    mutate(age = as.integer(age)) |>\n",
    "    select(played_hours,age,experience) |>\n",
    "    arrange(-played_hours)\n",
    "head(clean_players_with_outliers)\n",
    "\n",
    "#Creating a data frame to find the outliers for played hours\n",
    "clean_players_cutoff <- players |>\n",
    "    select(played_hours) |>\n",
    "    arrange(-played_hours)\n",
    "\n",
    "#finding outlier cutoff for played hours\n",
    "cutoff_high = quantile(clean_players_cutoff, probs = 0.975, na.rm = TRUE)\n",
    "cutoff_high\n",
    "\n",
    "#removing age and played_hours outliers\n",
    "clean_players_knn <- clean_players_with_outliers |>\n",
    "    filter(age >= 17) |>\n",
    "    filter(played_hours < cutoff_high) |>\n",
    "    filter(played_hours != 0) |>\n",
    "    arrange(-played_hours)\n",
    "clean_players_knn\n",
    "\n"
   ]
  },
  {
   "cell_type": "code",
   "execution_count": 5,
   "id": "7b5c3fb7-e210-4a21-8fbb-e4db53f6b776",
   "metadata": {},
   "outputs": [],
   "source": [
    "set.seed(1234)\n",
    "\n",
    "#Splitting the Data into Testing and Training\n",
    "players_split <- initial_split(clean_players_knn, prop = 0.80, strata = played_hours)\n",
    "players_testing <- testing(players_split)\n",
    "players_training <- training(players_split)\n",
    "\n"
   ]
  },
  {
   "cell_type": "markdown",
   "id": "d547f6e5-67f2-4016-aa2c-bf4befae80cf",
   "metadata": {},
   "source": [
    "#PLAN#\n",
    "\n",
    "- Do first knn regression with all predictors\n",
    "    - make sure to do vfold and cross analysis\n",
    "    - find the weights of each predictor and find RMSPE\n",
    "\n",
    "- Do second knn regression with the top 3 highest weights\n",
    "    - do vfold\n",
    "    - find the top 2 weights and the RMSPE\n",
    "\n",
    "- Do final knn regression with only the top 2 weights\n",
    "    - do vfold\n",
    "    - find the RMSPE\n",
    "\n",
    "- Compare all 3 RMSPE and decide which model is the best\n"
   ]
  },
  {
   "cell_type": "code",
   "execution_count": 28,
   "id": "a2389310-87e1-4ae1-a1ce-8637ddc39232",
   "metadata": {},
   "outputs": [
    {
     "data": {
      "text/plain": [
       "══ Workflow [trained] ══════════════════════════════════════════════════════════\n",
       "\u001b[3mPreprocessor:\u001b[23m Recipe\n",
       "\u001b[3mModel:\u001b[23m nearest_neighbor()\n",
       "\n",
       "── Preprocessor ────────────────────────────────────────────────────────────────\n",
       "2 Recipe Steps\n",
       "\n",
       "• step_scale()\n",
       "• step_center()\n",
       "\n",
       "── Model ───────────────────────────────────────────────────────────────────────\n",
       "\n",
       "Call:\n",
       "kknn::train.kknn(formula = ..y ~ ., data = data, ks = min_rows(5,     data, 5), kernel = ~\"rectangular\")\n",
       "\n",
       "Type of response variable: continuous\n",
       "minimal mean absolute error: 2.717895\n",
       "Minimal mean squared error: 50.03062\n",
       "Best kernel: rectangular\n",
       "Best k: 5"
      ]
     },
     "metadata": {},
     "output_type": "display_data"
    }
   ],
   "source": [
    "knn_spec <- nearest_neighbor(weight_func = \"rectangular\", neighbors = 5) |>\n",
    "    set_engine(\"kknn\") |>\n",
    "    set_mode(\"regression\")\n",
    "\n",
    "knn_recipe <- recipe(played_hours ~ age, data = players_training) |>\n",
    "    step_scale(age) |>\n",
    "    step_center(age)\n",
    "\n",
    "#player_vfold <- vfold_cv(players_training, v = 5, strata = played_hours) \n",
    "\n",
    "#grid_vals <- tibble(neighbors = seq(from = 1, to = 200, by = 3))\n",
    "\n",
    "all_pred_workflow <- workflow() |>\n",
    "    add_recipe(knn_recipe) |>\n",
    "    add_model(knn_spec) |>\n",
    "#    tune_grid(resamples = player_vfold, grid = grid_vals) |>\n",
    "    fit(data = players_training)\n",
    "  #  collect_metrics() |>\n",
    "  #  filter(.metric == \"rmse\")\n",
    "\n",
    "all_pred_workflow    "
   ]
  },
  {
   "cell_type": "code",
   "execution_count": 29,
   "id": "7bda8958-ea7f-4070-9790-cf0492da7402",
   "metadata": {},
   "outputs": [
    {
     "ename": "ERROR",
     "evalue": "\u001b[1m\u001b[33mError\u001b[39m in `collect_metrics()`:\u001b[22m\n\u001b[33m!\u001b[39m No `collect_metric()` exists for this type of object.\n",
     "output_type": "error",
     "traceback": [
      "\u001b[1m\u001b[33mError\u001b[39m in `collect_metrics()`:\u001b[22m\n\u001b[33m!\u001b[39m No `collect_metric()` exists for this type of object.\nTraceback:\n",
      "1. collect_metrics(all_pred_workflow, players_training)",
      "2. collect_metrics.default(all_pred_workflow, players_training)",
      "3. rlang::abort(\"No `collect_metric()` exists for this type of object.\")",
      "4. signal_abort(cnd, .file)"
     ]
    }
   ],
   "source": [
    "knn_metrics <- all_pred_workflow |>\n",
    "    collect_metrics(players_training)"
   ]
  },
  {
   "cell_type": "markdown",
   "id": "176cddba-0d23-493f-afda-238670113396",
   "metadata": {},
   "source": [
    "## Linear Regression Attempt"
   ]
  },
  {
   "cell_type": "code",
   "execution_count": 16,
   "id": "cf1f763b-2496-46b8-8be1-1f547c8a3df8",
   "metadata": {},
   "outputs": [
    {
     "data": {
      "text/html": [
       "<table class=\"dataframe\">\n",
       "<caption>A tibble: 6 × 3</caption>\n",
       "<thead>\n",
       "\t<tr><th scope=col>played_hours</th><th scope=col>age</th><th scope=col>subscribe</th></tr>\n",
       "\t<tr><th scope=col>&lt;dbl&gt;</th><th scope=col>&lt;int&gt;</th><th scope=col>&lt;dbl&gt;</th></tr>\n",
       "</thead>\n",
       "<tbody>\n",
       "\t<tr><td>223.1</td><td>17</td><td>1</td></tr>\n",
       "\t<tr><td>218.1</td><td>20</td><td>1</td></tr>\n",
       "\t<tr><td>178.2</td><td>19</td><td>1</td></tr>\n",
       "\t<tr><td>150.0</td><td>16</td><td>1</td></tr>\n",
       "\t<tr><td> 56.1</td><td>23</td><td>1</td></tr>\n",
       "\t<tr><td> 53.9</td><td>17</td><td>1</td></tr>\n",
       "</tbody>\n",
       "</table>\n"
      ],
      "text/latex": [
       "A tibble: 6 × 3\n",
       "\\begin{tabular}{lll}\n",
       " played\\_hours & age & subscribe\\\\\n",
       " <dbl> & <int> & <dbl>\\\\\n",
       "\\hline\n",
       "\t 223.1 & 17 & 1\\\\\n",
       "\t 218.1 & 20 & 1\\\\\n",
       "\t 178.2 & 19 & 1\\\\\n",
       "\t 150.0 & 16 & 1\\\\\n",
       "\t  56.1 & 23 & 1\\\\\n",
       "\t  53.9 & 17 & 1\\\\\n",
       "\\end{tabular}\n"
      ],
      "text/markdown": [
       "\n",
       "A tibble: 6 × 3\n",
       "\n",
       "| played_hours &lt;dbl&gt; | age &lt;int&gt; | subscribe &lt;dbl&gt; |\n",
       "|---|---|---|\n",
       "| 223.1 | 17 | 1 |\n",
       "| 218.1 | 20 | 1 |\n",
       "| 178.2 | 19 | 1 |\n",
       "| 150.0 | 16 | 1 |\n",
       "|  56.1 | 23 | 1 |\n",
       "|  53.9 | 17 | 1 |\n",
       "\n"
      ],
      "text/plain": [
       "  played_hours age subscribe\n",
       "1 223.1        17  1        \n",
       "2 218.1        20  1        \n",
       "3 178.2        19  1        \n",
       "4 150.0        16  1        \n",
       "5  56.1        23  1        \n",
       "6  53.9        17  1        "
      ]
     },
     "metadata": {},
     "output_type": "display_data"
    },
    {
     "data": {
      "text/html": [
       "<strong>97.5%:</strong> 39.2999999999997"
      ],
      "text/latex": [
       "\\textbf{97.5\\textbackslash{}\\%:} 39.2999999999997"
      ],
      "text/markdown": [
       "**97.5%:** 39.2999999999997"
      ],
      "text/plain": [
       "97.5% \n",
       " 39.3 "
      ]
     },
     "metadata": {},
     "output_type": "display_data"
    },
    {
     "data": {
      "text/html": [
       "<table class=\"dataframe\">\n",
       "<caption>A tibble: 94 × 3</caption>\n",
       "<thead>\n",
       "\t<tr><th scope=col>played_hours</th><th scope=col>age</th><th scope=col>subscribe</th></tr>\n",
       "\t<tr><th scope=col>&lt;dbl&gt;</th><th scope=col>&lt;int&gt;</th><th scope=col>&lt;dbl&gt;</th></tr>\n",
       "</thead>\n",
       "<tbody>\n",
       "\t<tr><td>32.0</td><td>22</td><td>1</td></tr>\n",
       "\t<tr><td>23.7</td><td>24</td><td>1</td></tr>\n",
       "\t<tr><td>18.5</td><td>49</td><td>1</td></tr>\n",
       "\t<tr><td>⋮</td><td>⋮</td><td>⋮</td></tr>\n",
       "\t<tr><td>0.1</td><td>17</td><td>1</td></tr>\n",
       "\t<tr><td>0.1</td><td>18</td><td>0</td></tr>\n",
       "\t<tr><td>0.1</td><td>44</td><td>1</td></tr>\n",
       "</tbody>\n",
       "</table>\n"
      ],
      "text/latex": [
       "A tibble: 94 × 3\n",
       "\\begin{tabular}{lll}\n",
       " played\\_hours & age & subscribe\\\\\n",
       " <dbl> & <int> & <dbl>\\\\\n",
       "\\hline\n",
       "\t 32.0 & 22 & 1\\\\\n",
       "\t 23.7 & 24 & 1\\\\\n",
       "\t 18.5 & 49 & 1\\\\\n",
       "\t ⋮ & ⋮ & ⋮\\\\\n",
       "\t 0.1 & 17 & 1\\\\\n",
       "\t 0.1 & 18 & 0\\\\\n",
       "\t 0.1 & 44 & 1\\\\\n",
       "\\end{tabular}\n"
      ],
      "text/markdown": [
       "\n",
       "A tibble: 94 × 3\n",
       "\n",
       "| played_hours &lt;dbl&gt; | age &lt;int&gt; | subscribe &lt;dbl&gt; |\n",
       "|---|---|---|\n",
       "| 32.0 | 22 | 1 |\n",
       "| 23.7 | 24 | 1 |\n",
       "| 18.5 | 49 | 1 |\n",
       "| ⋮ | ⋮ | ⋮ |\n",
       "| 0.1 | 17 | 1 |\n",
       "| 0.1 | 18 | 0 |\n",
       "| 0.1 | 44 | 1 |\n",
       "\n"
      ],
      "text/plain": [
       "   played_hours age subscribe\n",
       "1  32.0         22  1        \n",
       "2  23.7         24  1        \n",
       "3  18.5         49  1        \n",
       "⋮  ⋮            ⋮   ⋮        \n",
       "92 0.1          17  1        \n",
       "93 0.1          18  0        \n",
       "94 0.1          44  1        "
      ]
     },
     "metadata": {},
     "output_type": "display_data"
    }
   ],
   "source": [
    "#Linear Regression Wrangling\n",
    "clean_players_with_outliers <- players |>\n",
    "    mutate(age = as.integer(age), subscribe = as.numeric(subscribe)) |>\n",
    "    select(played_hours,age, subscribe) |>\n",
    "    arrange(-played_hours)\n",
    "head(clean_players_with_outliers)\n",
    "\n",
    "#Cutting off outliers of played_hours\n",
    "cutoff_high = quantile(clean_players_with_outliers, probs = 0.975, na.rm = TRUE)\n",
    "cutoff_high\n",
    "\n",
    "clean_players <- clean_players_with_outliers |>\n",
    "    filter(age >= 17) |>\n",
    "    filter(played_hours < cutoff_high) |>\n",
    "    filter(played_hours != 0) |>\n",
    "    arrange(-played_hours)\n",
    "clean_players\n"
   ]
  },
  {
   "cell_type": "code",
   "execution_count": 17,
   "id": "f8a8d216-db4d-41e8-9f47-df81fd64a9f9",
   "metadata": {},
   "outputs": [
    {
     "data": {
      "text/plain": [
       "══ Workflow [trained] ══════════════════════════════════════════════════════════\n",
       "\u001b[3mPreprocessor:\u001b[23m Recipe\n",
       "\u001b[3mModel:\u001b[23m linear_reg()\n",
       "\n",
       "── Preprocessor ────────────────────────────────────────────────────────────────\n",
       "0 Recipe Steps\n",
       "\n",
       "── Model ───────────────────────────────────────────────────────────────────────\n",
       "\n",
       "Call:\n",
       "stats::lm(formula = ..y ~ ., data = data)\n",
       "\n",
       "Coefficients:\n",
       "(Intercept)          age    subscribe  \n",
       "    0.56610      0.02149      0.90817  \n"
      ]
     },
     "metadata": {},
     "output_type": "display_data"
    }
   ],
   "source": [
    "knn_spec <- linear_reg() |>\n",
    "    set_engine(\"lm\") |>\n",
    "    set_mode(\"regression\")\n",
    "\n",
    "knn_recipe <- recipe(played_hours ~ age + subscribe, data = clean_players)\n",
    "\n",
    "lm_fit <- workflow() |>\n",
    "    add_recipe(knn_recipe) |>\n",
    "    add_model(knn_spec) |>\n",
    "    fit(data = clean_players)\n",
    "lm_fit"
   ]
  },
  {
   "cell_type": "code",
   "execution_count": 18,
   "id": "e21b7408-f1b3-40ff-a81d-c63948180965",
   "metadata": {},
   "outputs": [
    {
     "data": {
      "text/html": [
       "4.5825840930899"
      ],
      "text/latex": [
       "4.5825840930899"
      ],
      "text/markdown": [
       "4.5825840930899"
      ],
      "text/plain": [
       "[1] 4.582584"
      ]
     },
     "metadata": {},
     "output_type": "display_data"
    }
   ],
   "source": [
    "lm_test_results <- lm_fit |>\n",
    "    predict(clean_players) |>\n",
    "    bind_cols(clean_players) |>\n",
    "    metrics(truth = played_hours, estimate = .pred) |>\n",
    "    filter(.metric == \"rmse\") |>\n",
    "    pull(.estimate)\n",
    "\n",
    "lm_test_results"
   ]
  },
  {
   "cell_type": "markdown",
   "id": "7e1820a9-f8d1-41af-acd8-c645f1c4c1f1",
   "metadata": {},
   "source": [
    "## Subscribe Only Linear Regression"
   ]
  },
  {
   "cell_type": "code",
   "execution_count": 23,
   "id": "28ebdf06-39ea-4bd0-9928-5324560e352d",
   "metadata": {},
   "outputs": [
    {
     "data": {
      "text/plain": [
       "══ Workflow [trained] ══════════════════════════════════════════════════════════\n",
       "\u001b[3mPreprocessor:\u001b[23m Recipe\n",
       "\u001b[3mModel:\u001b[23m linear_reg()\n",
       "\n",
       "── Preprocessor ────────────────────────────────────────────────────────────────\n",
       "0 Recipe Steps\n",
       "\n",
       "── Model ───────────────────────────────────────────────────────────────────────\n",
       "\n",
       "Call:\n",
       "stats::lm(formula = ..y ~ ., data = data)\n",
       "\n",
       "Coefficients:\n",
       "(Intercept)    subscribe  \n",
       "     1.0440       0.9357  \n"
      ]
     },
     "metadata": {},
     "output_type": "display_data"
    }
   ],
   "source": [
    "knn_spec <- linear_reg() |>\n",
    "    set_engine(\"lm\") |>\n",
    "    set_mode(\"regression\")\n",
    "\n",
    "knn_recipe_2 <- recipe(played_hours ~ subscribe, data = clean_players)\n",
    "\n",
    "lm_fit_2 <- workflow() |>\n",
    "    add_recipe(knn_recipe_2) |>\n",
    "    add_model(knn_spec) |>\n",
    "    fit(data = clean_players)\n",
    "lm_fit_2"
   ]
  },
  {
   "cell_type": "code",
   "execution_count": 24,
   "id": "88d16563-cd09-405a-8ba8-0d25b8fb7681",
   "metadata": {},
   "outputs": [
    {
     "data": {
      "text/html": [
       "4.59012955155199"
      ],
      "text/latex": [
       "4.59012955155199"
      ],
      "text/markdown": [
       "4.59012955155199"
      ],
      "text/plain": [
       "[1] 4.59013"
      ]
     },
     "metadata": {},
     "output_type": "display_data"
    }
   ],
   "source": [
    "lm_test_results_subscribe <- lm_fit_2 |>\n",
    "    predict(clean_players) |>\n",
    "    bind_cols(clean_players) |>\n",
    "    metrics(truth = played_hours, estimate = .pred) |>\n",
    "    filter(.metric == \"rmse\") |>\n",
    "    pull(.estimate)\n",
    "\n",
    "lm_test_results_subscribe"
   ]
  },
  {
   "cell_type": "markdown",
   "id": "172edc3f-e5d6-4dff-97ca-557b44801f2d",
   "metadata": {},
   "source": [
    "## Age Linear Regression Only"
   ]
  },
  {
   "cell_type": "code",
   "execution_count": 26,
   "id": "15c1e375-c7d6-4c9b-9cc4-62bdc623864e",
   "metadata": {},
   "outputs": [
    {
     "data": {
      "text/plain": [
       "══ Workflow [trained] ══════════════════════════════════════════════════════════\n",
       "\u001b[3mPreprocessor:\u001b[23m Recipe\n",
       "\u001b[3mModel:\u001b[23m linear_reg()\n",
       "\n",
       "── Preprocessor ────────────────────────────────────────────────────────────────\n",
       "0 Recipe Steps\n",
       "\n",
       "── Model ───────────────────────────────────────────────────────────────────────\n",
       "\n",
       "Call:\n",
       "stats::lm(formula = ..y ~ ., data = data)\n",
       "\n",
       "Coefficients:\n",
       "(Intercept)          age  \n",
       "      1.198        0.023  \n"
      ]
     },
     "metadata": {},
     "output_type": "display_data"
    }
   ],
   "source": [
    "knn_spec <- linear_reg() |>\n",
    "    set_engine(\"lm\") |>\n",
    "    set_mode(\"regression\")\n",
    "\n",
    "knn_recipe_3 <- recipe(played_hours ~ age, data = clean_players)\n",
    "\n",
    "lm_fit_3 <- workflow() |>\n",
    "    add_recipe(knn_recipe_3) |>\n",
    "    add_model(knn_spec) |>\n",
    "    fit(data = clean_players)\n",
    "lm_fit_3"
   ]
  },
  {
   "cell_type": "code",
   "execution_count": 27,
   "id": "eaaec09b-c7a2-4180-b916-9da63ff87f7c",
   "metadata": {},
   "outputs": [
    {
     "data": {
      "text/html": [
       "4.60008128747804"
      ],
      "text/latex": [
       "4.60008128747804"
      ],
      "text/markdown": [
       "4.60008128747804"
      ],
      "text/plain": [
       "[1] 4.600081"
      ]
     },
     "metadata": {},
     "output_type": "display_data"
    }
   ],
   "source": [
    "lm_test_results_age <- lm_fit_3 |>\n",
    "    predict(clean_players) |>\n",
    "    bind_cols(clean_players) |>\n",
    "    metrics(truth = played_hours, estimate = .pred) |>\n",
    "    filter(.metric == \"rmse\") |>\n",
    "    pull(.estimate)\n",
    "\n",
    "lm_test_results_age"
   ]
  },
  {
   "cell_type": "markdown",
   "id": "41646eec-ba4e-4db0-a653-e14d7066e42e",
   "metadata": {},
   "source": [
    "Cell Below Was used to create the quantile"
   ]
  },
  {
   "cell_type": "code",
   "execution_count": null,
   "id": "45808b94-62a9-413b-9a3b-88e6903fa4f7",
   "metadata": {},
   "outputs": [],
   "source": [
    "# Sample data\n",
    "set.seed(123)\n",
    "data <- data.frame(value = rnorm(100))\n",
    "\n",
    "# Calculate the 97.5th percentile\n",
    "cutoff <- quantile(data$value, 0.975)\n",
    "\n",
    "# Filter out the top 2.5%\n",
    "filtered_data <- data[data$value <= cutoff, ]\n",
    "\n",
    "# Print the filtered data\n",
    "print(filtered_data)\n"
   ]
  },
  {
   "cell_type": "code",
   "execution_count": null,
   "id": "0c2a4cf0-0bf9-40e1-b3ea-aba797a1d934",
   "metadata": {},
   "outputs": [],
   "source": []
  },
  {
   "cell_type": "code",
   "execution_count": null,
   "id": "934ee8c0-15be-4800-80aa-0fd175ef66e2",
   "metadata": {},
   "outputs": [],
   "source": []
  },
  {
   "cell_type": "code",
   "execution_count": null,
   "id": "edf1f912-2786-4fef-9c8b-1f0ad8b183b0",
   "metadata": {},
   "outputs": [],
   "source": []
  },
  {
   "cell_type": "code",
   "execution_count": null,
   "id": "54d7444b-b870-444e-bc01-c5d88cb07790",
   "metadata": {},
   "outputs": [],
   "source": []
  },
  {
   "cell_type": "code",
   "execution_count": null,
   "id": "2325ffe4-6889-4931-862b-2aefda3cc3b1",
   "metadata": {},
   "outputs": [],
   "source": []
  }
 ],
 "metadata": {
  "kernelspec": {
   "display_name": "R",
   "language": "R",
   "name": "ir"
  },
  "language_info": {
   "codemirror_mode": "r",
   "file_extension": ".r",
   "mimetype": "text/x-r-source",
   "name": "R",
   "pygments_lexer": "r",
   "version": "4.3.3"
  }
 },
 "nbformat": 4,
 "nbformat_minor": 5
}
