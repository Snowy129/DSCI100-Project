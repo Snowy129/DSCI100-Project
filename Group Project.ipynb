{
 "cells": [
  {
   "cell_type": "code",
   "execution_count": null,
   "id": "5aa18778-5212-4633-b328-9dd765355403",
   "metadata": {},
   "outputs": [],
   "source": [
    "library(tidyverse)\n",
    "library(repr)\n",
    "library(tidymodels)\n",
    "library(GGally)\n",
    "library(ISLR)\n",
    "options(repr.matrix.max.rows = 6)\n",
    "source(\"cleanup.R\")"
   ]
  },
  {
   "cell_type": "code",
   "execution_count": null,
   "id": "2aaf2918-4c64-44e3-bbef-eac901b990e6",
   "metadata": {},
   "outputs": [],
   "source": [
    "players <- read_csv(\"https://raw.githubusercontent.com/Snowy129/DSCI100-Project/refs/heads/main/players.csv\")\n",
    "head(players)\n",
    "\n",
    "sessions <- read_csv(\"https://raw.githubusercontent.com/Snowy129/DSCI100-Project/refs/heads/main/sessions.csv\")\n",
    "head(sessions)"
   ]
  },
  {
   "cell_type": "code",
   "execution_count": null,
   "id": "84ff99be-bed5-4735-8ad1-5eb90ede426f",
   "metadata": {},
   "outputs": [],
   "source": [
    "clean_players <- players |>\n",
    "    mutate(gender = as_factor(gender), age = as.integer(age), experience = as_factor(experience)) |>\n",
    "    select(played_hours, gender, age, experience, subscribe)\n",
    "head(clean_players)"
   ]
  },
  {
   "cell_type": "code",
   "execution_count": null,
   "id": "7b5c3fb7-e210-4a21-8fbb-e4db53f6b776",
   "metadata": {},
   "outputs": [],
   "source": [
    "set.seed(1234)\n",
    "\n",
    "#Splitting the Data into Testing and Training\n",
    "players_split <- initial_split(clean_players, prop = 0.80, strata = played_hours)\n",
    "players_testing <- testing(players_split)\n",
    "players_training <- training(players_split)\n",
    "\n"
   ]
  },
  {
   "cell_type": "markdown",
   "id": "d547f6e5-67f2-4016-aa2c-bf4befae80cf",
   "metadata": {},
   "source": [
    "#PLAN#\n",
    "\n",
    "- Do first knn regression with all predictors\n",
    "    - make sure to do vfold and cross analysis\n",
    "    - find the weights of each predictor and find RMSPE\n",
    "\n",
    "- Do second knn regression with the top 3 highest weights\n",
    "    - do vfold\n",
    "    - find the top 2 weights and the RMSPE\n",
    "\n",
    "- Do final knn regression with only the top 2 weights\n",
    "    - do vfold\n",
    "    - find the RMSPE\n",
    "\n",
    "- Compare all 3 RMSPE and decide which model is the best\n"
   ]
  },
  {
   "cell_type": "code",
   "execution_count": null,
   "id": "a2389310-87e1-4ae1-a1ce-8637ddc39232",
   "metadata": {},
   "outputs": [],
   "source": [
    "knn_spec <- nearest_neighbor(weight_func = \"rectangular\", neighbors = tune()) |>\n",
    "    set_engine(\"kknn\") |>\n",
    "    set_mode(\"regression\")\n",
    "\n",
    "knn_recipe <- recipe(played_hours ~ ., data = players_training) |>\n",
    "    step_scale(all_predictors()) |>\n",
    "    step_center(all_predictors())\n",
    "\n",
    "player_vfold <- vfold_cv(players_training, v = 5, strata = played_hours) \n",
    "\n",
    "grid_vals <- tibble(neighbors = seq(from = 1, to = 200, by = 3))\n",
    "\n",
    "all_pred_workflow <- workflow() |>\n",
    "    add_recipe(knn_recipe) |>\n",
    "    add_model(knn_spec) |>\n",
    "    tune_grid(resamples = player_vfold, grid = grid_vals) |>\n",
    "    collect_metrics() |>\n",
    "    filter(.metric == \"rmse\")\n",
    "\n",
    "all_pred_workflow    "
   ]
  },
  {
   "cell_type": "code",
   "execution_count": null,
   "id": "f8a8d216-db4d-41e8-9f47-df81fd64a9f9",
   "metadata": {},
   "outputs": [],
   "source": []
  },
  {
   "cell_type": "code",
   "execution_count": null,
   "id": "e21b7408-f1b3-40ff-a81d-c63948180965",
   "metadata": {},
   "outputs": [],
   "source": []
  },
  {
   "cell_type": "code",
   "execution_count": null,
   "id": "45808b94-62a9-413b-9a3b-88e6903fa4f7",
   "metadata": {},
   "outputs": [],
   "source": []
  },
  {
   "cell_type": "code",
   "execution_count": null,
   "id": "0c2a4cf0-0bf9-40e1-b3ea-aba797a1d934",
   "metadata": {},
   "outputs": [],
   "source": []
  },
  {
   "cell_type": "code",
   "execution_count": null,
   "id": "934ee8c0-15be-4800-80aa-0fd175ef66e2",
   "metadata": {},
   "outputs": [],
   "source": []
  },
  {
   "cell_type": "code",
   "execution_count": null,
   "id": "edf1f912-2786-4fef-9c8b-1f0ad8b183b0",
   "metadata": {},
   "outputs": [],
   "source": []
  },
  {
   "cell_type": "code",
   "execution_count": null,
   "id": "54d7444b-b870-444e-bc01-c5d88cb07790",
   "metadata": {},
   "outputs": [],
   "source": []
  },
  {
   "cell_type": "code",
   "execution_count": null,
   "id": "2325ffe4-6889-4931-862b-2aefda3cc3b1",
   "metadata": {},
   "outputs": [],
   "source": []
  }
 ],
 "metadata": {
  "kernelspec": {
   "display_name": "R",
   "language": "R",
   "name": "ir"
  },
  "language_info": {
   "codemirror_mode": "r",
   "file_extension": ".r",
   "mimetype": "text/x-r-source",
   "name": "R",
   "pygments_lexer": "r",
   "version": "4.3.3"
  }
 },
 "nbformat": 4,
 "nbformat_minor": 5
}
